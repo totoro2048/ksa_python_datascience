{
 "cells": [
  {
   "cell_type": "markdown",
   "metadata": {},
   "source": [
    "# 서울시 CCTV 현황 분석 (p.23)\n",
    "- (가설 1) 인구수가 많으면 CCTV도 많다?\n",
    "- (가설 2) 노령자, 외국인의 수도 CCTV 수에 영향을 미칠 것이다.\n",
    "\n",
    "- `pandas`, `matplotlib` 사용\n",
    "\n",
    "### 데이터 가져오기\n",
    "1. cctv 설치 현황\n",
    "    - `서울시 자치구 연도별 CCTV 설치 현황` 구글에 쳐서 나오는 `data.seoul.go.kr` 사이트에서 가져오기\n",
    "2. 서울시 인구수\n",
    "    - `서울시 인구 통계` -> 구별 통계"
   ]
  },
  {
   "cell_type": "code",
   "execution_count": null,
   "metadata": {},
   "outputs": [],
   "source": []
  }
 ],
 "metadata": {
  "kernelspec": {
   "display_name": "Python 3",
   "language": "python",
   "name": "python3"
  },
  "language_info": {
   "codemirror_mode": {
    "name": "ipython",
    "version": 3
   },
   "file_extension": ".py",
   "mimetype": "text/x-python",
   "name": "python",
   "nbconvert_exporter": "python",
   "pygments_lexer": "ipython3",
   "version": "3.7.4"
  }
 },
 "nbformat": 4,
 "nbformat_minor": 2
}
